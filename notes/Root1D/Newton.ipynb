{
 "cells": [
  {
   "cell_type": "markdown",
   "id": "61d183dc-0a1d-4959-8638-35aade4a440f",
   "metadata": {},
   "source": [
    "## Faster Convergence and Newton's Method\n",
    "\n",
    "In the previous section, we found that the magnitude of $g'(p)$ plays a significant role in how fast a fixed point iteration scheme converges.  In this section we address the quesion of convergence when $g'(p)=0$. \n",
    "\n",
    "> **Theorem:**\n",
    "> - If $p$ is a solution to $x=g(x)$ with $g'(p)=0$ (assuming $g$ and $g'$ are continuous functions), then there exists $\\delta>0$ such that for all $p_0\\in(p-\\delta,p+\\delta)$, fixed point iteration coverges quadratically (or has order of convergence 2).\n",
    "\n",
    "For the proof, it is not too hard to show that if $g'$ is continuous that if $g'(p)=0$ then there must be some neighborhood of $p$ where $|g'(x)| \\leq k < 1$ (i.e. there exists $\\delta$ where $|g'(x)| \\leq k < 1$ in $(p-\\delta,p+\\delta)$).  You can then use the Mean Value theorem to show that $g(x)$ maps this neighborhood of $p$ onto itself.  As a result, we have the conditions required by our fixed point convergence theorem so that choosing our initial guess in this interval will result in convergence to a unique fixed point.  To see that this give quadratic convergence, note that given $p_i\\in (p-\\delta,p+\\delta)$ we can expand $g(x)$ in a Taylor series about $p$,\n",
    "\n",
    "$$\n",
    "g(p_i)=g(p) + g'(p)(p_i-p) + \\frac{g''(\\xi)}{2}(p_i-p)^2,\n",
    "$$\n",
    "\n",
    "and given that $g(p_i)=p_{i+1}$, $g(p)=p$, and $g'(p)=0$, this gives\n",
    "\n",
    "$$\n",
    "p_{i+1}-p = \\frac{g''(\\xi)}{2}(p_i-p)^2,\n",
    "$$\n",
    "\n",
    "or\n",
    "\n",
    "$$\n",
    "\\lim_{i\\rightarrow \\infty} \\frac{|p_{i+1}-p|}{|p_{i}-p|^2} = C =\\frac{g''(\\xi)}{2}.\n",
    "$$\n",
    "\n",
    "$\\blacksquare$\n",
    "\n",
    "**Example:** A *really* old fixed point scheme for [finding square roots](https://en.wikipedia.org/wiki/Square_root) (a description appears in Book 1 of Metrica by Heron of Alexandria from the first century C.E. but it is also clear that it was actually also widely known several hundred years earlier by ancient Indian and Chinese mathematians and as much as two thousand years earlier by ancient Mesopotanians).  The scheme is based on the idea that if you have a guess $x_i$ for the square root of a number $y$, then $y/x_i$ will be greater/less than the true square root if $x_i$ is too small/large.  As such, the average of $x_i$ and $y/x_i$ should be closer.  The fixed point scheme thus becomes\n",
    "\n",
    "$$\n",
    "p_{i+1}=\\frac{p_i + \\frac{y}{p_i}}{2}.\n",
    "$$\n",
    "\n",
    "If you try this in our `FixPointIteration` function from the previous section, to compute the square $\\sqrt{2}$, you will get the following"
   ]
  },
  {
   "cell_type": "code",
   "execution_count": 15,
   "id": "4ae3c0a9-2929-4b2b-acf6-b4f3f445448f",
   "metadata": {
    "editable": true,
    "slideshow": {
     "slide_type": ""
    },
    "tags": [
     "hide-input"
    ]
   },
   "outputs": [],
   "source": [
    "def FixPointIteration(g, p0, tol, maxN = 100, output = True):\n",
    "    # The p0 argument here is our initial guess\n",
    "    \n",
    "    # print output table headings\n",
    "    if (output):\n",
    "         print(\"         p(i)                 p(i+1)=g( p(i) )\")  \n",
    "\n",
    "    # main loop\n",
    "    for i in range(1,maxN):\n",
    "        p1 = g(p0)\n",
    "\n",
    "        if (output):\n",
    "             print(f\"{p0:>20} {p1:>24}\")\n",
    "\n",
    "        if (abs(p1-p0) < tol) :\n",
    "            print(\"Converged in\", i, \"iterations\")\n",
    "            return p1\n",
    "        else :\n",
    "            p0 = p1\n",
    "    \n",
    "    # if we finish the main loop without returning from the FixPointIteration function, we have failed.  :( \n",
    "    print(f\"Error: Could not find fixed point to within {tol} in {maxN} iterations. Returning best guess so far.\")\n",
    "    return p1"
   ]
  },
  {
   "cell_type": "code",
   "execution_count": 11,
   "id": "bdd81c56-2dfc-4574-91f8-10dfcb2c8900",
   "metadata": {},
   "outputs": [
    {
     "name": "stdout",
     "output_type": "stream",
     "text": [
      "         p(i)                 p(i+1)=g( p(i) )\n",
      "                 1.0                      1.5\n",
      "                 1.5       1.4166666666666665\n",
      "  1.4166666666666665       1.4142156862745097\n",
      "Converged in 3 iterations\n"
     ]
    }
   ],
   "source": [
    "import numpy as np\n",
    "import matplotlib.pyplot as plt\n",
    "\n",
    "def my_g(x):\n",
    "    return (x+2/x)/2\n",
    "    \n",
    "root = FixPointIteration(my_g,1.0, 0.01)"
   ]
  },
  {
   "cell_type": "markdown",
   "id": "8ebcedce-ec10-4820-a788-b6f5774c31fc",
   "metadata": {},
   "source": [
    "Note that the actual error is in the seventh digit here.  The same result in cuniform can be found on a nearly four thousand year old clay tablet inscribed by an ancient Mespotanian.  They also used base 60 arithmetic so that they were able to obtain the same $3\\times 10^{-6}$ accuracy with three base-sixty digits.  Any time you feel like complaining about modern computers, keep in mind there was some dude sitting on the banks of the Euphrates river doing these calculations in the mud, with a reed, nearly four thousand year before anyone even thought about electronics.\n",
    "\n",
    "This example converges *much* faster than the examples from the previous sections.  This is due to the fact that\n",
    "\n",
    "$$\n",
    "g'(p) = \\frac{1}{2}\\left(1-\\frac{y}{p^2} \\right) = 0,\n",
    "$$\n",
    "\n",
    "where the last equality comes from the fact that the fixed point $p$ is, by construction, $\\sqrt{y}$.  Convergence to near numerical precision in just a few interations, rather than 10-20+ iterations for just a few digits of accuracy for a general fixed point scheme, is one of the reasons that quadratic convergence can be vitaly important."
   ]
  },
  {
   "cell_type": "markdown",
   "id": "f7dd5e64-834e-4272-8171-d6136804dd9f",
   "metadata": {},
   "source": []
  },
  {
   "cell_type": "code",
   "execution_count": 9,
   "id": "f6ce1ac9-38d6-451f-9146-7c53bd921581",
   "metadata": {},
   "outputs": [],
   "source": [
    "def FixPointIteration(g, p0, tol, maxN = 100, output = True):\n",
    "    # The p0 argument here is our initial guess\n",
    "    \n",
    "    # print output table headings\n",
    "    if (output):\n",
    "        print(\"         p(i)                 p(i+1)=g( p(i) )\") \n",
    "\n",
    "    # main loop\n",
    "    for i in range(1,maxN):\n",
    "        p1 = g(p0)\n",
    "\n",
    "        if (output):\n",
    "            print(f\"{p0:>20} {p1:>24}\")\n",
    "\n",
    "        if (abs(p1-p0) < tol) :\n",
    "            print(\"Converged in\", i, \"iterations\")\n",
    "            return p1\n",
    "        else :\n",
    "            p0 = p1\n",
    "    \n",
    "    # if we finish the main loop without returning from the FixPointIteration function, we have failed.  :( \n",
    "    print(f\"Error: Could not find fixed point to within {tol} in {maxN} iterations. Returning best guess so far.\")\n",
    "    return p1"
   ]
  },
  {
   "cell_type": "markdown",
   "id": "4ca1d2ad-e43c-48c0-8891-f588c74d867e",
   "metadata": {},
   "source": [
    "Here we see there are two fixed point visible in the interval we plotted over, where the line $y=x$ and the plot of our $g(x)$ cross, one near $-1.9$ and another near $0.5$.  In the region $[0,1]$ it looks like our $g(x)$ probably satisfies the requirements of our theorem in that it maps an interval onto itself and it looks like the slope is less than one.  This suggests the fixed point iteration scheme should be able to find the fixed point near $0.5$.  Let's see if it works:"
   ]
  },
  {
   "cell_type": "code",
   "execution_count": 9,
   "id": "8255dcf2-dfb8-4811-a8ea-6798a389a463",
   "metadata": {},
   "outputs": [
    {
     "name": "stdout",
     "output_type": "stream",
     "text": [
      "         p(i+1)                    g( p(i) )\n",
      "                 0.5       0.5322807302156708\n",
      "  0.5322807302156708        0.506017150823715\n",
      "   0.506017150823715       0.5273387574874205\n",
      "  0.5273387574874205       0.5099980321976492\n",
      "  0.5099980321976492       0.5240808264172857\n",
      "  0.5240808264172857       0.5126303136484097\n",
      "  0.5126303136484097       0.5219316831931609\n",
      "  0.5219316831931609       0.5143701817534934\n",
      "  0.5143701817534934       0.5205133906614345\n",
      "  0.5205133906614345       0.5155198768147499\n",
      "  0.5155198768147499       0.5195771679746161\n",
      "  0.5195771679746161       0.5162794483407539\n",
      "  0.5162794483407539       0.5189590586183047\n",
      "  0.5189590586183047       0.5167812134870264\n",
      "  0.5167812134870264       0.5185509283524781\n",
      "  0.5185509283524781       0.5171126466905065\n",
      "  0.5171126466905065       0.5182814255955307\n",
      "  0.5182814255955307       0.5173315575733446\n",
      "Converged in 18 iterations\n",
      "Best guess for fixed point is  0.5173315575733446\n"
     ]
    }
   ],
   "source": [
    "root = FixPointIteration(my_g,0.5, 0.001)\n",
    "print(\"Best guess for fixed point is \", root)"
   ]
  },
  {
   "cell_type": "markdown",
   "id": "afa9cb40-d826-44a4-a310-33b1afa2fece",
   "metadata": {},
   "source": [
    "As expected, it does converged, although not terribly quickly.  Let's try finding the second fixed point near $x=-1.9$ by giving a guess closer to that one:"
   ]
  },
  {
   "cell_type": "code",
   "execution_count": 8,
   "id": "f0b6e05a-9b18-473e-b8be-3b72c769cf9b",
   "metadata": {},
   "outputs": [
    {
     "name": "stdout",
     "output_type": "stream",
     "text": [
      "         p(i+1)                    g( p(i) )\n",
      "                -1.9       -2.161479918339569\n",
      "  -2.161479918339569       -4.836359427829768\n",
      "  -4.836359427829768       15.581504473709394\n",
      "  15.581504473709394   -1.696511121979884e-07\n",
      "-1.696511121979884e-07        1.000000169651112\n",
      "   1.000000169651112      0.19876602410835303\n",
      " 0.19876602410835303       0.8036017644473938\n",
      "  0.8036017644473938      0.31076619849211157\n",
      " 0.31076619849211157       0.6977796779572575\n",
      "  0.6977796779572575       0.3813645670468432\n",
      "  0.3813645670468432       0.6338656390190758\n",
      "  0.6338656390190758       0.4274770079691997\n",
      "  0.4274770079691997       0.5934682131658137\n",
      "  0.5934682131658137      0.45794967972580625\n",
      " 0.45794967972580625       0.5673988724136764\n",
      "  0.5673988724136764      0.47815072244569323\n",
      " 0.47815072244569323       0.5504021086808643\n",
      "  0.5504021086808643      0.49154486576105705\n",
      " 0.49154486576105705       0.5392606113390594\n",
      "  0.5392606113390594       0.5004194958147331\n",
      "  0.5004194958147331       0.5319355082237575\n",
      "  0.5319355082237575        0.506294763315725\n",
      "   0.506294763315725       0.5271112602098665\n",
      "  0.5271112602098665       0.5101816365573778\n",
      "  0.5101816365573778       0.5239307895568277\n",
      "  0.5239307895568277       0.5127516892065659\n",
      "  0.5127516892065659       0.5218326834490277\n",
      "  0.5218326834490277       0.5144503942164397\n",
      "  0.5144503942164397        0.520448046597347\n",
      "   0.520448046597347       0.5155728746224664\n",
      "  0.5155728746224664       0.5195340294216132\n",
      "  0.5195340294216132       0.5163144597758489\n",
      "  0.5163144597758489       0.5189305758864963\n",
      "  0.5189305758864963       0.5168043404670372\n",
      "  0.5168043404670372       0.5185321206974918\n",
      "  0.5185321206974918       0.5171279223242925\n",
      "  0.5171279223242925       0.5182690058741294\n",
      "  0.5182690058741294       0.5173416468600801\n",
      "Converged in 38 iterations\n",
      "Best guess for fixed point is  0.5173416468600801\n"
     ]
    }
   ],
   "source": [
    "root = FixPointIteration(my_g, -1.9, 0.001)\n",
    "print(\"Best guess for fixed point is \", root)"
   ]
  },
  {
   "cell_type": "markdown",
   "id": "155f0fdc-5dca-4be8-b6bb-2bea5b91b601",
   "metadata": {},
   "source": [
    "Not surprisingly, this does not coverge to the fixed point we wanted near $-1.9$ but, after jumping around a bit, it does eventually coverge back to the fixed point near $0.5$.  Sometimes fixed points are categorized as being \"attractive\" when there is a neighborhood around them where a fixed point iteration converges, or \"repulsive\" if the fixed point iteration scheme actually moves away from them.\n",
    "\n",
    "Despite the prevalence of fixed point iteraction schemes in many algorithms, it should be clear that they don't generally converge terribly quickly.  Given that $|g'(p)|$ seems to determine how quickly we converge, an obvious quesion is whether we can do better than linear convergence if $g'(p)=0$?  We answer this question in the next section."
   ]
  },
  {
   "cell_type": "code",
   "execution_count": null,
   "id": "1c993ff7-fdf2-4c85-8973-04938b16b48f",
   "metadata": {},
   "outputs": [],
   "source": []
  }
 ],
 "metadata": {
  "kernelspec": {
   "display_name": "Python 3 (ipykernel)",
   "language": "python",
   "name": "python3"
  },
  "language_info": {
   "codemirror_mode": {
    "name": "ipython",
    "version": 3
   },
   "file_extension": ".py",
   "mimetype": "text/x-python",
   "name": "python",
   "nbconvert_exporter": "python",
   "pygments_lexer": "ipython3",
   "version": "3.9.20"
  }
 },
 "nbformat": 4,
 "nbformat_minor": 5
}
