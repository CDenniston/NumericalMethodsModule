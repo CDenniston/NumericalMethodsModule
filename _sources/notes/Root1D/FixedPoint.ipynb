{
 "cells": [
  {
   "cell_type": "markdown",
   "id": "61d183dc-0a1d-4959-8638-35aade4a440f",
   "metadata": {},
   "source": [
    "## Fixed-Point Iteration\n",
    "\n",
    "> **Definition:**  $p$ is a *fixed point* of a function $g$ if $g(p)=p$.\n",
    "\n",
    "Finding a fixed point and finding a root are related problems.  For example, a root of $f(x)=0$ is also a fixed point of $g(x)=x-\\phi(x)f(x)$, where $\\phi(x)$ is almost any function (there are some functions, like $\\phi(x)=1/f(x)$ that would *not* work though).  As a result, given a suitable choice for $\\phi(x)$, we can use an algorithm that finds a fixed point of $g(x)$ to find a root of $f(x)$.\n",
    "\n",
    "Before looking for a fixed point, a reasonable question to ask is whether there is one, i.e. is there a solution to $g(x)=x$?  You should not be surprised that, just as the first step in root-finding is to bracket the root, our first step to find a fixed point is to find an interval that contains the fixed point.  In this case, this is an interval that the function maps onto itself as described in the following Theorem.\n",
    "\n",
    "> **Theorem:**\n",
    "> - If $g$ is a continuous function on the interval $[a,b]$ and $g(x) \\in [a,b]$ for all $x \\in [a,b]$, then $g$ has a fixed point $p \\in [a,b]$.\n",
    "> - If, in addition, $g'(x)$ exists on $[a,b]$ and $0<k<1$ exists with $|g'(x)|\\leq k$ for all $x \\in (a,b)$ the $p$ is unique.\n",
    "\n",
    "The proof of the first statement is best constructed by first looking at a picture illustrating the situation:\n",
    "\n",
    "<img src=\"./img/FixedPoint.png\" width=\"400\">\n",
    "\n",
    "Note that the requirement that $g(x) \\in [a,b]$ for all $x \\in [a,b]$ translates into the requirement that $g(x)$ enters the box in the picture above along the left edge and exits along the right edge.  It therefore as little choice but to cross the diagonal (the line $y=x$) in traversing the box.  Mathematically, you can define an auxiliary function \n",
    "\n",
    "$$ h(x) = x- g(x) $$\n",
    "\n",
    "and the constraints on $g(x)$ translate into the requirement that $h(a) \\leq 0$ and $h(b) \\geq 0$.  The Intermediate Value Theorem (or the corollary, Bolzano's theorem) then states that their exists $p$ with $h(p)=0$, or $p=g(p)$.  \n",
    "\n",
    "The second statement restricts the function $g(x)$ from crossing the line $y=x$ more than once as once it has crossed the line $y=x$ to cross it again would require its derivative to be greater than 1 (to \"overtake\" the line $y=x$ whose slope is 1).\n",
    "\n",
    "Note that the theorem only gives \"sufficient conditions\" for when a fixed point is sure to exist.  It is possible for a fixed point to exist without these conditions being met. How do we find the fixed point?  A very simple guess is to just try the following sequence:\n",
    "\n",
    "> **Definition:**  Given $p_0$, the sequence\n",
    ">\n",
    "> $$ p_{n+1}=g(p_n),\\qquad\\qquad n=0,1,2,\\ldots$$\n",
    ">\n",
    "> is called a *fixed point iteration* scheme.\n",
    "\n",
    "A good question to ask is: When does this sequence converge to a fixed point?  \n",
    "\n",
    "> **Theorem:**\n",
    "> If $g$ is a continuous function on the interval $[a,b]$ and $g(x) \\in [a,b]$ for all $x \\in [a,b]$, and $|g'(x)| \\leq k < 1$ for all $x \\in (a,b)$ then\n",
    "> given $p_1\\in [a,b]$, the sequence $p_{n+1}=g(p_n),\\, n=0,1,2,\\ldots$ converges to a unique fixed point $p$ in $[a,b]$.\n",
    "\n",
    "The proof is fairly straightforward and instructive.  Using the definition of the sequence and the fixed point,\n",
    "\n",
    "$$\n",
    "\\begin{align}\n",
    "|p_{n+1}-p|&=|g(p_n)-g(p)|\\\\\n",
    "&= |g'(\\xi)(p_n-p)|\\\\\n",
    "&\\leq k|p_n-p|\n",
    "\\end{align}\n",
    "$$\n",
    "\n",
    "where the second line is true for some $\\xi\\in (p_n,p)$ by the [Mean Value Theorem](https://en.wikipedia.org/wiki/Mean_value_theorem), and the last line just makes use of the bound on the derivative.  As this expression is true for any $n$ we can apply it iteratively to get\n",
    "\n",
    "$$\n",
    "\\begin{align}\n",
    "|p_{n+1}-p| \\leq k|p_n-p| &\\leq k^2|p_{n-1}-p|\\\\\n",
    "&\\vdots\\\\\n",
    "&\\leq k^n|p_1-p|\n",
    "\\end{align}\n",
    "$$\n",
    "\n",
    "This in turn implies that $\\lim_{n\\rightarrow \\infty} |p_{n+1}-p| =0$ since $k<1$.\n",
    "\n",
    "$$\n",
    "\\blacksquare\n",
    "$$\n",
    "\n",
    "From the proof we can note a few things (when the conditions of the theorem are satisfied\n",
    "- Given that $|p_{n+1}-p| \\leq k|p_n-p|$ we can see that the method has order of convergence 1, assuming $k>0$.\n",
    "- In the neighborhood of the root, the smaller $|g'(p)|$ is, the faster we will converge to the root once we are in that neighborhood.\n",
    "- $E_f=|p_{n+1}-p| \\leq k^n \\,\\,{\\rm max}\\{p_1-a,b-p_1\\}$ provides a calculatable bound on the forward error.\n",
    "\n",
    "We cannot practically do an infinite number of iterations so we will have to stop at some point when the error is small enough.  As usual, the backward error is easily computed as $E_b=|p_{n+1}-g(p_n)|$ but that is rarely used as a stopping criteria.  As we do no know $p$, we can only bound the forward error.  However, that requires as input the bound $k$ on the derivative.  As users are often too lazy to provide this, a common stopping criteria is to look at the difference between our current guess and our last one. It is possible to prove that for linear convergence\n",
    "\n",
    "$$\n",
    "|p_{n+1}-p| \\approx C |p_{n+1}-p_n|,\n",
    "$$\n",
    "\n",
    "for some $C\\neq 0$, and not guaranteed to be small.  In principle we should come up with an estimate for $C$ but this is rarely done as it requires similar work as bounding $|g(x)|$ on the interval.\n",
    "\n",
    "Coding up a fixed point iteration scheme is almost trivial though:"
   ]
  },
  {
   "cell_type": "code",
   "execution_count": 6,
   "id": "da262b6a-795d-49fa-8ed8-f45ad58259b4",
   "metadata": {},
   "outputs": [],
   "source": [
    "def FixPointIteration(g, p0, tol, maxN = 100, output = True):\n",
    "    # The p0 argument here is our initial guess\n",
    "    \n",
    "    # print output table headings\n",
    "    if (output):\n",
    "        print(\"         p(i+1)                    g( p(i) )\") \n",
    "\n",
    "    # main loop\n",
    "    for i in range(1,maxN):\n",
    "        p1 = g(p0)\n",
    "\n",
    "        if (output):\n",
    "            print(f\"{p0:>20} {p1:>24}\")\n",
    "\n",
    "        if (abs(p1-p0) < tol) :\n",
    "            print(\"Converged in\", i, \"iterations\")\n",
    "            return p1\n",
    "        else :\n",
    "            p0 = p1\n",
    "    \n",
    "    # if we finish the main loop without returning from the FixPointIteration function, we have failed.  :( \n",
    "    print(f\"Error: Could not find fixed point to within {tol} in {maxN} iterations. Returning best guess so far.\")\n",
    "    return p1"
   ]
  },
  {
   "cell_type": "markdown",
   "id": "8ebcedce-ec10-4820-a788-b6f5774c31fc",
   "metadata": {},
   "source": [
    "As with the bisection routine, we set both a maximum number of iterations and a psuedo-forward error test (we don't have an estimate of the $C$ above so this test is only roughly proportional to the forward error).\n",
    "\n",
    "**Example:** Let's use our Fixed Point Iteration function to find a fixed point of the function $g(x)=e^{-x}\\cos{x}$.  As with root finding, our first step is always to plot the function to get some idea of regions where we might be able to find a fixed point (note that the scheme does not require any bracketing of the fixed point, but if the conditions of the theorem above are not met, we likely won't find what we are looking for).  In this case we plot $y=x$ as well as $g(x)$ as the fixed points are locations where these two lines cross."
   ]
  },
  {
   "cell_type": "code",
   "execution_count": 10,
   "id": "f6ce1ac9-38d6-451f-9146-7c53bd921581",
   "metadata": {},
   "outputs": [
    {
     "data": {
      "image/png": "[encoded data removed]",
      "text/plain": [
       "<Figure size 640x480 with 1 Axes>"
      ]
     },
     "metadata": {},
     "output_type": "display_data"
    }
   ],
   "source": [
    "import numpy as np\n",
    "import matplotlib.pyplot as plt\n",
    "\n",
    "def my_g(x):\n",
    "    return np.exp(-x)*np.cos(x)\n",
    "    \n",
    "x = np.linspace(-2.0,2.0, num=100)\n",
    "plt.plot(x, my_g(x))\n",
    "plt.plot(x, x)\n",
    "plt.axhline(0, color='black')\n",
    "plt.show()"
   ]
  },
  {
   "cell_type": "markdown",
   "id": "4ca1d2ad-e43c-48c0-8891-f588c74d867e",
   "metadata": {},
   "source": [
    "Here we see there are two fixed point visible in the interval we plotted over, where the line $y=x$ and the plot of our $g(x)$ cross, one near $-1.9$ and another near $0.5$.  In the region $[0,1]$ it looks like our $g(x)$ probably satisfies the requirements of our theorem in that it maps an interval onto itself and it looks like the slope is less than one.  This suggests the fixed point iteration scheme should be able to find the fixed point near $0.5$.  Let's see if it works:"
   ]
  },
  {
   "cell_type": "code",
   "execution_count": 9,
   "id": "8255dcf2-dfb8-4811-a8ea-6798a389a463",
   "metadata": {},
   "outputs": [
    {
     "name": "stdout",
     "output_type": "stream",
     "text": [
      "         p(i+1)                    g( p(i) )\n",
      "                 0.5       0.5322807302156708\n",
      "  0.5322807302156708        0.506017150823715\n",
      "   0.506017150823715       0.5273387574874205\n",
      "  0.5273387574874205       0.5099980321976492\n",
      "  0.5099980321976492       0.5240808264172857\n",
      "  0.5240808264172857       0.5126303136484097\n",
      "  0.5126303136484097       0.5219316831931609\n",
      "  0.5219316831931609       0.5143701817534934\n",
      "  0.5143701817534934       0.5205133906614345\n",
      "  0.5205133906614345       0.5155198768147499\n",
      "  0.5155198768147499       0.5195771679746161\n",
      "  0.5195771679746161       0.5162794483407539\n",
      "  0.5162794483407539       0.5189590586183047\n",
      "  0.5189590586183047       0.5167812134870264\n",
      "  0.5167812134870264       0.5185509283524781\n",
      "  0.5185509283524781       0.5171126466905065\n",
      "  0.5171126466905065       0.5182814255955307\n",
      "  0.5182814255955307       0.5173315575733446\n",
      "Converged in 18 iterations\n",
      "Best guess for fixed point is  0.5173315575733446\n"
     ]
    }
   ],
   "source": [
    "root = FixPointIteration(my_g,0.5, 0.001)\n",
    "print(\"Best guess for fixed point is \", root)"
   ]
  },
  {
   "cell_type": "markdown",
   "id": "afa9cb40-d826-44a4-a310-33b1afa2fece",
   "metadata": {},
   "source": [
    "As expected, it does converged, although not terribly quickly.  Let's try finding the second fixed point near $x=-1.9$ by giving a guess closer to that one:"
   ]
  },
  {
   "cell_type": "code",
   "execution_count": 8,
   "id": "f0b6e05a-9b18-473e-b8be-3b72c769cf9b",
   "metadata": {},
   "outputs": [
    {
     "name": "stdout",
     "output_type": "stream",
     "text": [
      "         p(i+1)                    g( p(i) )\n",
      "                -1.9       -2.161479918339569\n",
      "  -2.161479918339569       -4.836359427829768\n",
      "  -4.836359427829768       15.581504473709394\n",
      "  15.581504473709394   -1.696511121979884e-07\n",
      "-1.696511121979884e-07        1.000000169651112\n",
      "   1.000000169651112      0.19876602410835303\n",
      " 0.19876602410835303       0.8036017644473938\n",
      "  0.8036017644473938      0.31076619849211157\n",
      " 0.31076619849211157       0.6977796779572575\n",
      "  0.6977796779572575       0.3813645670468432\n",
      "  0.3813645670468432       0.6338656390190758\n",
      "  0.6338656390190758       0.4274770079691997\n",
      "  0.4274770079691997       0.5934682131658137\n",
      "  0.5934682131658137      0.45794967972580625\n",
      " 0.45794967972580625       0.5673988724136764\n",
      "  0.5673988724136764      0.47815072244569323\n",
      " 0.47815072244569323       0.5504021086808643\n",
      "  0.5504021086808643      0.49154486576105705\n",
      " 0.49154486576105705       0.5392606113390594\n",
      "  0.5392606113390594       0.5004194958147331\n",
      "  0.5004194958147331       0.5319355082237575\n",
      "  0.5319355082237575        0.506294763315725\n",
      "   0.506294763315725       0.5271112602098665\n",
      "  0.5271112602098665       0.5101816365573778\n",
      "  0.5101816365573778       0.5239307895568277\n",
      "  0.5239307895568277       0.5127516892065659\n",
      "  0.5127516892065659       0.5218326834490277\n",
      "  0.5218326834490277       0.5144503942164397\n",
      "  0.5144503942164397        0.520448046597347\n",
      "   0.520448046597347       0.5155728746224664\n",
      "  0.5155728746224664       0.5195340294216132\n",
      "  0.5195340294216132       0.5163144597758489\n",
      "  0.5163144597758489       0.5189305758864963\n",
      "  0.5189305758864963       0.5168043404670372\n",
      "  0.5168043404670372       0.5185321206974918\n",
      "  0.5185321206974918       0.5171279223242925\n",
      "  0.5171279223242925       0.5182690058741294\n",
      "  0.5182690058741294       0.5173416468600801\n",
      "Converged in 38 iterations\n",
      "Best guess for fixed point is  0.5173416468600801\n"
     ]
    }
   ],
   "source": [
    "root = FixPointIteration(my_g, -1.9, 0.001)\n",
    "print(\"Best guess for fixed point is \", root)"
   ]
  },
  {
   "cell_type": "markdown",
   "id": "155f0fdc-5dca-4be8-b6bb-2bea5b91b601",
   "metadata": {},
   "source": [
    "Not surprisingly, this does not coverge to the fixed point we wanted near $-1.9$ but, after jumping around a bit, it does eventually coverge back to the fixed point near $0.5$.  Sometimes fixed points are categorized as being \"attractive\" when there is a neighborhood around them where a fixed point iteration converges, or \"repulsive\" if the fixed point iteration scheme actually moves away from them.\n",
    "\n",
    "Despite the prevalence of fixed point iteraction schemes in many algorithms, it should be clear that they don't generally converge terribly quickly.  Given that $|g'(p)|$ seems to determine how quickly we converge, an obvious quesion is whether we can do better than linear convergence if $g'(p)=0$?  We answer this question in the next section."
   ]
  },
  {
   "cell_type": "code",
   "execution_count": null,
   "id": "1c993ff7-fdf2-4c85-8973-04938b16b48f",
   "metadata": {},
   "outputs": [],
   "source": []
  }
 ],
 "metadata": {
  "kernelspec": {
   "display_name": "Python 3 (ipykernel)",
   "language": "python",
   "name": "python3"
  },
  "language_info": {
   "codemirror_mode": {
    "name": "ipython",
    "version": 3
   },
   "file_extension": ".py",
   "mimetype": "text/x-python",
   "name": "python",
   "nbconvert_exporter": "python",
   "pygments_lexer": "ipython3",
   "version": "3.9.20"
  }
 },
 "nbformat": 4,
 "nbformat_minor": 5
}
