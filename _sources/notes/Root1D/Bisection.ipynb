{
 "cells": [
  {
   "cell_type": "markdown",
   "id": "61d183dc-0a1d-4959-8638-35aade4a440f",
   "metadata": {},
   "source": [
    "## Bisection\n",
    "\n",
    "The intermediate value theorem states that if $f$ is a continuous function whose domain contains the interval $[a, b]$, then it takes on any given value between $f(a)$ and $f(b)$ at some point within the interval.  An important corollary is *Bolzano's theorem*: If a continuous function has values of opposite sign inside an interval, then it has a root in that interval.\n",
    "\n",
    "The bisection method assumes that you have first bracketed the root so have found an interval $[a,b]$ where $f(a)*f(b) < 0$.  Our goal is to find $p \\in [a,b]$, such that $f(p)=0$. Our initial situation looks something like what is depicted in black in the following plot:\n",
    "\n",
    "<img src=\"./img/bisection.png\" width=\"400\">\n",
    "\n",
    "In this example $f(a)<0$ and $f(b)>0$ but it could be the other way around.  Our strategy is divide the interval in half, identify which half of the interval contains the root and then repeat the process until our interval is smaller than some tolerance.  In each interval, our guess for the root $p$ will be the midpoint of the interval.  So, for our first step, $a_1=a$ and $b_1=b$ and our first guess for the root will be $p_1=\\frac{a_1+a_2}{2}$.  It is also easy to check the backward error, i.e. how well our current guess satisfies the root condition as $E_b=|f(p_1)-0|=|f(p_1)|$ is easily calculated exactly.  We can bound the forward error, how close our guess is to the actual root $p$, as $E_f=|p_1 - p| \\leq |p_1 - a_1|=|p_1 - b_1|$, but not calculate it exactly.  We then replace the endpoint that gives the same sign as $f(p_1)$ with $p_1$.  This gives us a new interval to search that is half the width of the original.  We can then repeat until one, or both, of the forward or backwards errors are smaller than a tolerance.  A python code to do this is below."
   ]
  },
  {
   "cell_type": "code",
   "execution_count": 61,
   "id": "da262b6a-795d-49fa-8ed8-f45ad58259b4",
   "metadata": {},
   "outputs": [],
   "source": [
    "import numpy as np\n",
    "\n",
    "def bisection(f, a, b, tol, maxN = 100, output = True):\n",
    "    # We require that the root is bracketed which means that the function must \n",
    "    # have a different sign when evaluated at each endpoint.  If the function\n",
    "    # is not bracketed we return a nan\n",
    "    if (f(a)*f(b) > 0):\n",
    "        print(\"Error: Root is not bracketed\")\n",
    "        return np.nan\n",
    "\n",
    "    # print output table headings\n",
    "    if (output):\n",
    "        print(\"         p_i                    f(p_i)                         [a_(i+1), b_(i+1)]\") \n",
    "\n",
    "    # main loop\n",
    "    for i in range(1,maxN):\n",
    "        p = (a + b)/2\n",
    "        if (f(a)*f(p) < 0):\n",
    "            b = p\n",
    "        else: \n",
    "            a = p\n",
    "\n",
    "        if (output):\n",
    "            print(f\"{p:>20} {f(p):>24}     [{a:>20},{b:>20}]\")\n",
    "\n",
    "        if ((abs(b-a) < tol) or (f(p) == 0)) :\n",
    "            print(\"Converged in\", i, \"iterations\")\n",
    "            return p\n",
    "\n",
    "    # if we finish the main loop without returning from the bisection function, we have failed.  :( \n",
    "    print(f\"Error: Could not find root to within {tol} in {maxN} iterations. Returning best guess so far.\")\n",
    "    return p"
   ]
  },
  {
   "cell_type": "markdown",
   "id": "8ebcedce-ec10-4820-a788-b6f5774c31fc",
   "metadata": {},
   "source": [
    "Note that we could have used a `while` loop, with the forward/backward error test as the condition, for the main loop.  However, there is the possibility that if a user asked for too tight a tolerance the required number of iterations could be very large.  By setting a maximum number of iterations (the `maxN` optional arguement) we avoid this possibility.  Output can be very useful to see the process of convergence, and for debugging if you were coding this yourself.  However, for larger numbers of iterations it could be cumbersome so it is useful to give the possibility of suppressing it (by setting the optional `output = False` in the call to bisection).  \n",
    "\n",
    "Note that if $f(a)*f(p) < 0$ then $[a,p]$ is an interval containing a root that has half the width of the prior search interval.  If $f(a)*f(p) > 0$ then, as $f(a)$ and $f(b)$ have opposite signs, we can be sure that $f(p)$ and $f(b)$ also have opposite signs so we can take $[p,b]$ for our new search interval.  Our stopping condition here is just the forward error bound test.  We need to still include the test on the vanishing of the backward error $f(p)=0$ as our `if` condition for the new interval could fail if $f(p) = 0$. \n",
    "\n",
    "**Example:** Let's use our bisection function to find a root of the function $f(x)=e^{-x}\\cos{x}$.  Our first step is the bracket a root and the best way of doing this is to first plot the function over some interval (you may need to do this a few times, varying the endpoints, to find a suitable interval):"
   ]
  },
  {
   "cell_type": "code",
   "execution_count": 97,
   "id": "f6ce1ac9-38d6-451f-9146-7c53bd921581",
   "metadata": {},
   "outputs": [
    {
     "data": {
      "image/png": "[encoded data removed]",
      "text/plain": [
       "<Figure size 640x480 with 1 Axes>"
      ]
     },
     "metadata": {},
     "output_type": "display_data"
    }
   ],
   "source": [
    "import matplotlib.pyplot as plt\n",
    "\n",
    "def my_f(x):\n",
    "    return np.exp(-x)*np.cos(x)\n",
    "    \n",
    "x = np.linspace(-2.0,2.0, num=100)\n",
    "plt.plot(x, my_f(x))\n",
    "plt.axhline(0, color='black')\n",
    "plt.show()"
   ]
  },
  {
   "cell_type": "markdown",
   "id": "4ca1d2ad-e43c-48c0-8891-f588c74d867e",
   "metadata": {},
   "source": [
    "Here we see there are two roots visible in the interval we plotted over, one in $[-2,-1]$ and another in $[1,2]$.  Now let's use our bisection function to zero in on the first root:"
   ]
  },
  {
   "cell_type": "code",
   "execution_count": 93,
   "id": "8255dcf2-dfb8-4811-a8ea-6798a389a463",
   "metadata": {},
   "outputs": [
    {
     "name": "stdout",
     "output_type": "stream",
     "text": [
      "         p_i                    f(p_i)                         [a_(i+1), b_(i+1)]\n",
      "                -0.5       1.4468890365841693     [                -2.0,                -0.5]\n",
      "               -1.25       1.1005831869165565     [                -2.0,               -1.25]\n",
      "              -1.625     -0.27513419390066923     [              -1.625,               -1.25]\n",
      "             -1.4375       0.5595380857937036     [              -1.625,             -1.4375]\n",
      "            -1.53125       0.1828127032730359     [              -1.625,            -1.53125]\n",
      "           -1.578125     -0.03551341594628521     [           -1.578125,            -1.53125]\n",
      "          -1.5546875      0.07624955813068525     [           -1.578125,          -1.5546875]\n",
      "         -1.56640625     0.021025789547447247     [           -1.578125,         -1.56640625]\n",
      "        -1.572265625    -0.007078415905375183     [        -1.572265625,         -1.56640625]\n",
      "       -1.5693359375     0.007014915182200935     [        -1.572265625,       -1.5693359375]\n",
      "      -1.57080078125  -2.1428150969791853e-05     [      -1.57080078125,       -1.5693359375]\n",
      "     -1.570068359375     0.003499322178225614     [      -1.57080078125,     -1.570068359375]\n",
      "Converged in 12 iterations\n",
      "Best guess for root is  -1.570068359375\n"
     ]
    }
   ],
   "source": [
    "root = bisection(my_f,-2.0, 1.0, 0.001)\n",
    "print(\"Best guess for root is \", root)"
   ]
  },
  {
   "cell_type": "markdown",
   "id": "afa9cb40-d826-44a4-a310-33b1afa2fece",
   "metadata": {},
   "source": [
    "Let's try finding the second one, but this time with a tighter tolerance on the forward error.  We will suppress the output to avoid printing a long table:"
   ]
  },
  {
   "cell_type": "code",
   "execution_count": 100,
   "id": "f0b6e05a-9b18-473e-b8be-3b72c769cf9b",
   "metadata": {},
   "outputs": [
    {
     "name": "stdout",
     "output_type": "stream",
     "text": [
      "Converged in 30 iterations\n",
      "Best guess for root is  1.5707963267341256\n"
     ]
    }
   ],
   "source": [
    "root = bisection(my_f, 1.0, 2.0, 1e-9, output=False)\n",
    "print(\"Best guess for root is \", root)"
   ]
  },
  {
   "cell_type": "markdown",
   "id": "155f0fdc-5dca-4be8-b6bb-2bea5b91b601",
   "metadata": {},
   "source": [
    "## Convergence of Root finding methods\n",
    "\n",
    "A very reasonable question to ask for any root-finding method is: How fast is this method?  \n",
    "\n",
    "> **Definition:** If\n",
    "> \n",
    "> $$\\lim_{i\\rightarrow \\infty} \\frac{|p_{i+1}-p|}{|p_{i}-p|^\\alpha} = C$$\n",
    "> \n",
    "> for some constant $C\\neq 0$, then we say the method has *order of convergence* $\\alpha$.\n",
    "\n",
    "For bisection, it should be clear that\n",
    "\n",
    "$$|p_{i+1}-p| \\leq |a_{i+1}-b_{i+1}|=\\frac{1}{2}|a_{i}-b_{i}|$$\n",
    "\n",
    "and\n",
    "\n",
    "$$|p_{i}-p| \\leq |a_{i}-b_{i}|$$\n",
    "\n",
    "so that\n",
    "\n",
    "$$\\lim_{i\\rightarrow \\infty} \\frac{|p_{i+1}-p|}{|p_{i}-p|^\\alpha} =  \\frac{1}{2}.$$\n",
    "\n",
    "Thus, bisection has order of convergence $\\alpha = 1$, or linear convergence.\n",
    "\n",
    "It should also be clear that\n",
    "\n",
    "$$ |p_n - p| \\leq \\frac{b-a}{2^n}$$\n",
    "\n",
    "where $[a,b]$ is the intial bracketing interval.  As such, the convergence of the bisection method is actually independent of the details of $f(x)$."
   ]
  },
  {
   "cell_type": "markdown",
   "id": "9f36e172-2dd3-4b8e-be02-352c36989107",
   "metadata": {},
   "source": [
    "## Stopping Criteria\n",
    "\n",
    "In the bisection example we primarily used an absolute forward error test to stop.  There are a number of other possibilities including:\n",
    "\n",
    "1. Stop before exceedig a maximun number of iterations\n",
    "2. Absolute backward error test, $|f(p_{i+1})| \\leq \\epsilon_b$\n",
    "3. Forward error test, either relative\n",
    "  \n",
    "   $$\\frac{|p_{i+1}-p_i|}{|p_{i+1}|} \\leq \\epsilon_{rf}$$\n",
    "\n",
    "   if $p_{i+1}$ is \"away\" from zero or absolute,\n",
    "\n",
    "   $$|p_{i+1}-p_i| \\leq \\epsilon_{af}.$$\n",
    "6. To avoid the issue of the failure of a relative error test when the root is close to zero (which you may not know *a priori*) one can use a mixed relative/absolute error test of the form\n",
    "  \n",
    "   $$|p_{i+1}-p_i| \\leq \\epsilon_{rf}|p_{i+1}| + \\epsilon_{af}.$$\n",
    "\n",
    "   Note that if $p_{i+1}\\approx 0$ this is dominated by the second term so the test essentially becomes an absolute error test.  In contrast, if $|p_{i+1}|$ is large the second term is neglible and the test becomes a relative error.\n"
   ]
  }
 ],
 "metadata": {
  "kernelspec": {
   "display_name": "Python 3 (ipykernel)",
   "language": "python",
   "name": "python3"
  },
  "language_info": {
   "codemirror_mode": {
    "name": "ipython",
    "version": 3
   },
   "file_extension": ".py",
   "mimetype": "text/x-python",
   "name": "python",
   "nbconvert_exporter": "python",
   "pygments_lexer": "ipython3",
   "version": "3.9.20"
  }
 },
 "nbformat": 4,
 "nbformat_minor": 5
}
